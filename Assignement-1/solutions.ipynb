{
 "cells": [
  {
   "cell_type": "code",
   "execution_count": 0,
   "metadata": {
    "application/vnd.databricks.v1+cell": {
     "cellMetadata": {
      "byteLimit": 2048000,
      "rowLimit": 10000
     },
     "inputWidgets": {},
     "nuid": "2f74e34d-bbe3-4cd0-ba47-cce0e3935c99",
     "showTitle": false,
     "tableResultSettingsMap": {},
     "title": ""
    }
   },
   "outputs": [],
   "source": [
    "from pyspark.sql import SparkSession\n",
    "from pyspark.sql import functions as F\n",
    "from pyspark.sql.types import StructType, StructField, StringType, TimestampType, ArrayType\n",
    "\n",
    "# Create Spark session\n",
    "spark = SparkSession.builder \\\n",
    "    .appName(\"Spark with Hive\") \\\n",
    "    .getOrCreate()\n",
    "\n",
    "# # Load the JSON data\n",
    "path1 = '/Volumes/workspace/default/assignment-1/ad_campaigns_data.json'\n",
    "path2 = '/Volumes/workspace/default/assignment-1/store_data.json'\n",
    "path3 = '/Volumes/workspace/default/assignment-1/user_profile_data.json'\n",
    "\n",
    "\n",
    "# Define the schema\n",
    "schema_campaigns = StructType([\n",
    "    StructField(\"campaign_id\", StringType(), True),\n",
    "    StructField(\"campaign_name\", StringType(), True),\n",
    "    StructField(\"campaign_country\", StringType(), True),\n",
    "    StructField(\"os_type\", StringType(), True),\n",
    "    StructField(\"device_type\", StringType(), True),\n",
    "    StructField(\"place_id\", StringType(), True),\n",
    "    StructField(\"user_id\", StringType(), True),\n",
    "    StructField(\"event_type\", StringType(), True),\n",
    "    StructField(\"event_time\", TimestampType(), True)\n",
    "])\n",
    "\n",
    "\n",
    "schema_users = StructType([\n",
    "    StructField(\"user_id\", StringType(), True),\n",
    "    StructField(\"country\", StringType(), True),\n",
    "    StructField(\"gender\", StringType(), True),\n",
    "    StructField(\"age_group\", StringType(), True),\n",
    "    StructField(\"category\", ArrayType(StringType()), True)\n",
    "])\n",
    "\n",
    "\n",
    "schema_stores = StructType([\n",
    "    StructField(\"store_name\", StringType(), True),\n",
    "    StructField(\"place_ids\", ArrayType(StringType()), True)\n",
    "])\n",
    "\n",
    "\n",
    "df_campaigns = spark.read.format('json').option(\"multiline\", \"true\").schema(schema_campaigns).load(path1)\n",
    "df_users = spark.read.format('json').option(\"multiline\", \"true\").schema(schema_users).load(path3)\n",
    "df_stores = spark.read.format('json').option(\"multiline\", \"true\").schema(schema_stores).load(path2)\n",
    "\n",
    "\n",
    "\n"
   ]
  },
  {
   "cell_type": "code",
   "execution_count": 0,
   "metadata": {
    "application/vnd.databricks.v1+cell": {
     "cellMetadata": {
      "byteLimit": 2048000,
      "rowLimit": 10000
     },
     "inputWidgets": {},
     "nuid": "5cb92929-b617-4406-b5b1-2a63d2cd14c1",
     "showTitle": false,
     "tableResultSettingsMap": {},
     "title": ""
    }
   },
   "outputs": [
    {
     "output_type": "stream",
     "name": "stdout",
     "output_type": "stream",
     "text": [
      "root\n |-- campaign_id: string (nullable = true)\n |-- campaign_name: string (nullable = true)\n |-- campaign_country: string (nullable = true)\n |-- os_type: string (nullable = true)\n |-- device_type: string (nullable = true)\n |-- place_id: string (nullable = true)\n |-- user_id: string (nullable = true)\n |-- event_type: string (nullable = true)\n |-- event_time: timestamp (nullable = true)\n\nroot\n |-- user_id: string (nullable = true)\n |-- country: string (nullable = true)\n |-- gender: string (nullable = true)\n |-- age_group: string (nullable = true)\n |-- category: array (nullable = true)\n |    |-- element: string (containsNull = true)\n\nroot\n |-- store_name: string (nullable = true)\n |-- place_ids: array (nullable = true)\n |    |-- element: string (containsNull = true)\n\n"
     ]
    }
   ],
   "source": [
    "# Print schema and sample data\n",
    "df_campaigns.printSchema()\n",
    "df_users.printSchema()\n",
    "df_stores.printSchema()"
   ]
  },
  {
   "cell_type": "code",
   "execution_count": 0,
   "metadata": {
    "application/vnd.databricks.v1+cell": {
     "cellMetadata": {
      "byteLimit": 2048000,
      "rowLimit": 10000
     },
     "inputWidgets": {},
     "nuid": "bc2e6ec5-93d2-46c3-b35c-d2abfa0b86b9",
     "showTitle": false,
     "tableResultSettingsMap": {},
     "title": ""
    }
   },
   "outputs": [
    {
     "output_type": "stream",
     "name": "stdout",
     "output_type": "stream",
     "text": [
      "+-----------+--------------------+----------------+-------+-----------+---------+-------------------+----------+-------------------+\n|campaign_id|       campaign_name|campaign_country|os_type|device_type| place_id|            user_id|event_type|         event_time|\n+-----------+--------------------+----------------+-------+-----------+---------+-------------------+----------+-------------------+\n|    ABCDFAE|Food category tar...|             USA|    ios|      apple|CASSBB-11|1264374214654454321|impression|2018-10-12 13:10:05|\n|    ABCDFAE|Food category tar...|             USA|android|   MOTOROLA|CADGBD-13|1674374214654454321|impression|2018-10-12 13:09:04|\n|    ABCDFAE|Food category tar...|             USA|android|    SAMSUNG|BADGBA-12|   5747421465445443|  video ad|2018-10-12 13:10:10|\n|    ABCDFAE|Food category tar...|             USA|android|    SAMSUNG|CASSBB-11|1864374214654454132|     click|2018-10-12 13:10:12|\n+-----------+--------------------+----------------+-------+-----------+---------+-------------------+----------+-------------------+\n\n+-------------------+-------+------+---------+--------------------+\n|            user_id|country|gender|age_group|            category|\n+-------------------+-------+------+---------+--------------------+\n|1264374214654454321|    USA|  male|    18-25|  [shopper, student]|\n|1674374214654454321|    USA|female|    25-50|            [parent]|\n|   5747421465445443|    USA|  male|    25-50|[shopper, parent,...|\n|1864374214654454132|    USA|  male|      50+|      [professional]|\n|  14537421465445443|    USA|female|    18-25|  [shopper, student]|\n+-------------------+-------+------+---------+--------------------+\nonly showing top 5 rows\n+-------------+--------------------+\n|   store_name|           place_ids|\n+-------------+--------------------+\n|     McDonald|[CASSBB-11, CADGB...|\n|   BurgerKing|         [CASSBB-11]|\n|        Macys|[BADGBA-13, CASSB...|\n|shoppers stop|         [BADGBA-12]|\n+-------------+--------------------+\n\n"
     ]
    }
   ],
   "source": [
    "# Show the dataframes\n",
    "df_campaigns.show(5)\n",
    "df_users.show(5)\n",
    "df_stores.show(5)"
   ]
  },
  {
   "cell_type": "code",
   "execution_count": 0,
   "metadata": {
    "application/vnd.databricks.v1+cell": {
     "cellMetadata": {
      "byteLimit": 2048000,
      "rowLimit": 10000
     },
     "inputWidgets": {},
     "nuid": "8db36e66-3264-453d-9f7e-f7e39a6a1cae",
     "showTitle": false,
     "tableResultSettingsMap": {},
     "title": ""
    }
   },
   "outputs": [],
   "source": [
    "# Extract date and hour from the event_time column\n",
    "df_campaigns = df_campaigns.withColumn(\"event_time\", F.col(\"event_time\").cast(\"timestamp\"))\n",
    "df_campaigns = df_campaigns.withColumn(\"date\", F.to_date(\"event_time\"))\n",
    "df_campaigns = df_campaigns.withColumn(\"hour\", F.hour(\"event_time\"))"
   ]
  },
  {
   "cell_type": "code",
   "execution_count": 0,
   "metadata": {
    "application/vnd.databricks.v1+cell": {
     "cellMetadata": {
      "byteLimit": 2048000,
      "rowLimit": 10000
     },
     "inputWidgets": {},
     "nuid": "64e18bd4-ffff-47bc-bf03-191ebd023e81",
     "showTitle": false,
     "tableResultSettingsMap": {},
     "title": ""
    }
   },
   "outputs": [
    {
     "output_type": "display_data",
     "data": {
      "text/html": [
       "<style scoped>\n",
       "  .table-result-container {\n",
       "    max-height: 300px;\n",
       "    overflow: auto;\n",
       "  }\n",
       "  table, th, td {\n",
       "    border: 1px solid black;\n",
       "    border-collapse: collapse;\n",
       "  }\n",
       "  th, td {\n",
       "    padding: 5px;\n",
       "  }\n",
       "  th {\n",
       "    text-align: left;\n",
       "  }\n",
       "</style><div class='table-result-container'><table class='table-result'><thead style='background-color: white'><tr><th>campaign_id</th><th>date</th><th>hour</th><th>os_type</th><th>event</th></tr></thead><tbody><tr><td>ABCDFAE</td><td>2018-10-12</td><td>13</td><td>android</td><td>List(1, 1, 1)</td></tr><tr><td>ABCDFAE</td><td>2018-10-12</td><td>13</td><td>ios</td><td>List(1, 0, 0)</td></tr></tbody></table></div>"
      ]
     },
     "metadata": {
      "application/vnd.databricks.v1+output": {
       "addedWidgets": {},
       "aggData": [],
       "aggError": "",
       "aggOverflow": false,
       "aggSchema": [],
       "aggSeriesLimitReached": false,
       "aggType": "",
       "arguments": {},
       "columnCustomDisplayInfos": {},
       "data": [
        [
         "ABCDFAE",
         "2018-10-12",
         13,
         "android",
         [
          1,
          1,
          1
         ]
        ],
        [
         "ABCDFAE",
         "2018-10-12",
         13,
         "ios",
         [
          1,
          0,
          0
         ]
        ]
       ],
       "datasetInfos": [],
       "dbfsResultPath": null,
       "isJsonSchema": true,
       "metadata": {},
       "overflow": false,
       "plotOptions": {
        "customPlotOptions": {},
        "displayType": "table",
        "pivotAggregation": null,
        "pivotColumns": null,
        "xColumns": null,
        "yColumns": null
       },
       "removedWidgets": [],
       "schema": [
        {
         "metadata": "{}",
         "name": "campaign_id",
         "type": "\"string\""
        },
        {
         "metadata": "{}",
         "name": "date",
         "type": "\"date\""
        },
        {
         "metadata": "{}",
         "name": "hour",
         "type": "\"integer\""
        },
        {
         "metadata": "{}",
         "name": "os_type",
         "type": "\"string\""
        },
        {
         "metadata": "{}",
         "name": "event",
         "type": "{\"fields\":[{\"metadata\":{},\"name\":\"impression\",\"nullable\":false,\"type\":\"long\"},{\"metadata\":{},\"name\":\"click\",\"nullable\":false,\"type\":\"long\"},{\"metadata\":{},\"name\":\"video_ad\",\"nullable\":false,\"type\":\"long\"}],\"type\":\"struct\"}"
        }
       ],
       "type": "table"
      }
     },
     "output_type": "display_data"
    }
   ],
   "source": [
    "result_q1 = (\n",
    "    df_campaigns.groupBy(\"campaign_id\", \"date\", \"hour\", \"os_type\", \"event_type\")\n",
    "    .agg(F.count(\"event_type\").alias(\"event_count\"))\n",
    "    .groupBy(\"campaign_id\", \"date\", \"hour\", \"os_type\")\n",
    "    .pivot(\"event_type\")\n",
    "    .agg(F.first(\"event_count\"))\n",
    "    .fillna(0)\n",
    "    .select(\n",
    "        \"campaign_id\",\n",
    "        \"date\",\n",
    "        \"hour\",\n",
    "        \"os_type\",\n",
    "        F.struct(\n",
    "            F.col(\"impression\").alias(\"impression\"),\n",
    "            F.col(\"click\").alias(\"click\"),\n",
    "            F.col(\"video ad\").alias(\"video_ad\"),\n",
    "        ).alias(\"event\"),\n",
    "    )\n",
    ")\n",
    "\n",
    "result_q1.display()"
   ]
  },
  {
   "cell_type": "code",
   "execution_count": 0,
   "metadata": {
    "application/vnd.databricks.v1+cell": {
     "cellMetadata": {
      "byteLimit": 2048000,
      "rowLimit": 10000
     },
     "inputWidgets": {},
     "nuid": "2d9271e6-18fc-4de1-935c-804f88aad31b",
     "showTitle": false,
     "tableResultSettingsMap": {},
     "title": ""
    }
   },
   "outputs": [
    {
     "output_type": "display_data",
     "data": {
      "text/html": [
       "<style scoped>\n",
       "  .table-result-container {\n",
       "    max-height: 300px;\n",
       "    overflow: auto;\n",
       "  }\n",
       "  table, th, td {\n",
       "    border: 1px solid black;\n",
       "    border-collapse: collapse;\n",
       "  }\n",
       "  th, td {\n",
       "    padding: 5px;\n",
       "  }\n",
       "  th {\n",
       "    text-align: left;\n",
       "  }\n",
       "</style><div class='table-result-container'><table class='table-result'><thead style='background-color: white'><tr><th>campaign_id</th><th>date</th><th>hour</th><th>store_name</th><th>event</th></tr></thead><tbody><tr><td>ABCDFAE</td><td>2018-10-12</td><td>13</td><td>BurgerKing</td><td>List(1, 1, 0)</td></tr><tr><td>ABCDFAE</td><td>2018-10-12</td><td>13</td><td>McDonald</td><td>List(2, 1, 0)</td></tr><tr><td>ABCDFAE</td><td>2018-10-12</td><td>13</td><td>shoppers stop</td><td>List(0, 0, 1)</td></tr></tbody></table></div>"
      ]
     },
     "metadata": {
      "application/vnd.databricks.v1+output": {
       "addedWidgets": {},
       "aggData": [],
       "aggError": "",
       "aggOverflow": false,
       "aggSchema": [],
       "aggSeriesLimitReached": false,
       "aggType": "",
       "arguments": {},
       "columnCustomDisplayInfos": {},
       "data": [
        [
         "ABCDFAE",
         "2018-10-12",
         13,
         "BurgerKing",
         [
          1,
          1,
          0
         ]
        ],
        [
         "ABCDFAE",
         "2018-10-12",
         13,
         "McDonald",
         [
          2,
          1,
          0
         ]
        ],
        [
         "ABCDFAE",
         "2018-10-12",
         13,
         "shoppers stop",
         [
          0,
          0,
          1
         ]
        ]
       ],
       "datasetInfos": [],
       "dbfsResultPath": null,
       "isJsonSchema": true,
       "metadata": {},
       "overflow": false,
       "plotOptions": {
        "customPlotOptions": {},
        "displayType": "table",
        "pivotAggregation": null,
        "pivotColumns": null,
        "xColumns": null,
        "yColumns": null
       },
       "removedWidgets": [],
       "schema": [
        {
         "metadata": "{}",
         "name": "campaign_id",
         "type": "\"string\""
        },
        {
         "metadata": "{}",
         "name": "date",
         "type": "\"date\""
        },
        {
         "metadata": "{}",
         "name": "hour",
         "type": "\"integer\""
        },
        {
         "metadata": "{}",
         "name": "store_name",
         "type": "\"string\""
        },
        {
         "metadata": "{}",
         "name": "event",
         "type": "{\"fields\":[{\"metadata\":{},\"name\":\"impression\",\"nullable\":false,\"type\":\"long\"},{\"metadata\":{},\"name\":\"click\",\"nullable\":false,\"type\":\"long\"},{\"metadata\":{},\"name\":\"video_ad\",\"nullable\":false,\"type\":\"long\"}],\"type\":\"struct\"}"
        }
       ],
       "type": "table"
      }
     },
     "output_type": "display_data"
    }
   ],
   "source": [
    "# Q2. Analyze data for each campaign_id, date, hour, store_name & value to get all the events with counts\n",
    "result_q2 = (\n",
    "    df_campaigns.join(df_stores, F.array_contains(df_stores.place_ids, df_campaigns.place_id), \"inner\")\n",
    "    .groupBy(\"campaign_id\", \"date\", \"hour\", \"store_name\", \"event_type\")\n",
    "    .agg(F.count(\"event_type\").alias(\"event_count\"))\n",
    "    .groupBy(\"campaign_id\", \"date\", \"hour\", \"store_name\")\n",
    "    .pivot(\"event_type\")\n",
    "    .agg(F.first(\"event_count\"))\n",
    "    .fillna(0)\n",
    "    .select(\n",
    "        \"campaign_id\",\n",
    "        \"date\",\n",
    "        \"hour\",\n",
    "        \"store_name\",\n",
    "        F.struct(\n",
    "            F.col(\"impression\").alias(\"impression\"),\n",
    "            F.col(\"click\").alias(\"click\"),\n",
    "            F.col(\"video ad\").alias(\"video_ad\"),\n",
    "        ).alias(\"event\"),\n",
    "    )\n",
    ")\n",
    "\n",
    "result_q2.display()\n"
   ]
  },
  {
   "cell_type": "code",
   "execution_count": 0,
   "metadata": {
    "application/vnd.databricks.v1+cell": {
     "cellMetadata": {
      "byteLimit": 2048000,
      "rowLimit": 10000
     },
     "inputWidgets": {},
     "nuid": "9a08e64d-4c8c-48cc-bc45-dab0e03a3c15",
     "showTitle": false,
     "tableResultSettingsMap": {},
     "title": ""
    }
   },
   "outputs": [
    {
     "output_type": "display_data",
     "data": {
      "text/html": [
       "<style scoped>\n",
       "  .table-result-container {\n",
       "    max-height: 300px;\n",
       "    overflow: auto;\n",
       "  }\n",
       "  table, th, td {\n",
       "    border: 1px solid black;\n",
       "    border-collapse: collapse;\n",
       "  }\n",
       "  th, td {\n",
       "    padding: 5px;\n",
       "  }\n",
       "  th {\n",
       "    text-align: left;\n",
       "  }\n",
       "</style><div class='table-result-container'><table class='table-result'><thead style='background-color: white'><tr><th>campaign_id</th><th>date</th><th>hour</th><th>gender</th><th>event</th></tr></thead><tbody><tr><td>ABCDFAE</td><td>2018-10-12</td><td>13</td><td>male</td><td>List(1, 1, 1)</td></tr><tr><td>ABCDFAE</td><td>2018-10-12</td><td>13</td><td>female</td><td>List(1, 0, 0)</td></tr></tbody></table></div>"
      ]
     },
     "metadata": {
      "application/vnd.databricks.v1+output": {
       "addedWidgets": {},
       "aggData": [],
       "aggError": "",
       "aggOverflow": false,
       "aggSchema": [],
       "aggSeriesLimitReached": false,
       "aggType": "",
       "arguments": {},
       "columnCustomDisplayInfos": {},
       "data": [
        [
         "ABCDFAE",
         "2018-10-12",
         13,
         "male",
         [
          1,
          1,
          1
         ]
        ],
        [
         "ABCDFAE",
         "2018-10-12",
         13,
         "female",
         [
          1,
          0,
          0
         ]
        ]
       ],
       "datasetInfos": [],
       "dbfsResultPath": null,
       "isJsonSchema": true,
       "metadata": {},
       "overflow": false,
       "plotOptions": {
        "customPlotOptions": {},
        "displayType": "table",
        "pivotAggregation": null,
        "pivotColumns": null,
        "xColumns": null,
        "yColumns": null
       },
       "removedWidgets": [],
       "schema": [
        {
         "metadata": "{}",
         "name": "campaign_id",
         "type": "\"string\""
        },
        {
         "metadata": "{}",
         "name": "date",
         "type": "\"date\""
        },
        {
         "metadata": "{}",
         "name": "hour",
         "type": "\"integer\""
        },
        {
         "metadata": "{}",
         "name": "gender",
         "type": "\"string\""
        },
        {
         "metadata": "{}",
         "name": "event",
         "type": "{\"fields\":[{\"metadata\":{},\"name\":\"impression\",\"nullable\":false,\"type\":\"long\"},{\"metadata\":{},\"name\":\"click\",\"nullable\":false,\"type\":\"long\"},{\"metadata\":{},\"name\":\"video_ad\",\"nullable\":false,\"type\":\"long\"}],\"type\":\"struct\"}"
        }
       ],
       "type": "table"
      }
     },
     "output_type": "display_data"
    }
   ],
   "source": [
    "# Q3. Analyze data for each campaign_id, date, hour, gender_type & value to get all the events with counts\n",
    "result_q3 = (\n",
    "    df_campaigns.join(df_users, \"user_id\", \"inner\")\n",
    "    .groupBy(\"campaign_id\", \"date\", \"hour\", \"gender\", \"event_type\")\n",
    "    .agg(F.count(\"event_type\").alias(\"event_count\"))\n",
    "    .groupBy(\"campaign_id\", \"date\", \"hour\", \"gender\")\n",
    "    .pivot(\"event_type\")\n",
    "    .agg(F.first(\"event_count\"))\n",
    "    .fillna(0)\n",
    "    .select(\n",
    "        \"campaign_id\",\n",
    "        \"date\",\n",
    "        \"hour\",\n",
    "        \"gender\",\n",
    "        F.struct(\n",
    "            F.col(\"impression\").alias(\"impression\"),\n",
    "            F.col(\"click\").alias(\"click\"),\n",
    "            F.col(\"video ad\").alias(\"video_ad\"),\n",
    "        ).alias(\"event\"),\n",
    "    )\n",
    ")\n",
    "\n",
    "result_q3.display()\n"
   ]
  }
 ],
 "metadata": {
  "application/vnd.databricks.v1+notebook": {
   "computePreferences": {
    "hardware": {
     "accelerator": null,
     "gpuPoolId": null,
     "memory": null
    }
   },
   "dashboards": [],
   "environmentMetadata": {
    "base_environment": "",
    "environment_version": "3"
   },
   "inputWidgetPreferences": null,
   "language": "python",
   "notebookMetadata": {
    "pythonIndentUnit": 4
   },
   "notebookName": "Untitled Notebook 2025-10-04 09:14:18",
   "widgets": {}
  },
  "language_info": {
   "name": "python"
  }
 },
 "nbformat": 4,
 "nbformat_minor": 0
}